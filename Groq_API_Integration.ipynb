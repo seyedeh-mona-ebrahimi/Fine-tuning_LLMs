{
 "metadata": {
  "kernelspec": {
   "language": "python",
   "display_name": "Python 3",
   "name": "python3"
  },
  "language_info": {
   "name": "python",
   "version": "3.10.12",
   "mimetype": "text/x-python",
   "codemirror_mode": {
    "name": "ipython",
    "version": 3
   },
   "pygments_lexer": "ipython3",
   "nbconvert_exporter": "python",
   "file_extension": ".py"
  },
  "kaggle": {
   "accelerator": "nvidiaTeslaT4",
   "dataSources": [],
   "dockerImageVersionId": 30840,
   "isInternetEnabled": true,
   "language": "python",
   "sourceType": "notebook",
   "isGpuEnabled": true
  }
 },
 "nbformat_minor": 4,
 "nbformat": 4,
 "cells": [
  {
   "cell_type": "code",
   "source": "!pip install fastapi uvicorn requests python-dotenv\n",
   "metadata": {
    "_uuid": "8f2839f25d086af736a60e9eeb907d3b93b6e0e5",
    "_cell_guid": "b1076dfc-b9ad-4769-8c92-a6c4dae69d19",
    "trusted": true,
    "execution": {
     "iopub.status.busy": "2025-02-03T13:28:43.923927Z",
     "iopub.execute_input": "2025-02-03T13:28:43.924279Z",
     "iopub.status.idle": "2025-02-03T13:28:50.809352Z",
     "shell.execute_reply.started": "2025-02-03T13:28:43.924249Z",
     "shell.execute_reply": "2025-02-03T13:28:50.808048Z"
    }
   },
   "outputs": [
    {
     "name": "stdout",
     "text": "Collecting fastapi\n  Downloading fastapi-0.115.8-py3-none-any.whl.metadata (27 kB)\nCollecting uvicorn\n  Downloading uvicorn-0.34.0-py3-none-any.whl.metadata (6.5 kB)\nRequirement already satisfied: requests in /usr/local/lib/python3.10/dist-packages (2.32.3)\nCollecting python-dotenv\n  Downloading python_dotenv-1.0.1-py3-none-any.whl.metadata (23 kB)\nCollecting starlette<0.46.0,>=0.40.0 (from fastapi)\n  Downloading starlette-0.45.3-py3-none-any.whl.metadata (6.3 kB)\nRequirement already satisfied: pydantic!=1.8,!=1.8.1,!=2.0.0,!=2.0.1,!=2.1.0,<3.0.0,>=1.7.4 in /usr/local/lib/python3.10/dist-packages (from fastapi) (2.10.3)\nRequirement already satisfied: typing-extensions>=4.8.0 in /usr/local/lib/python3.10/dist-packages (from fastapi) (4.12.2)\nRequirement already satisfied: click>=7.0 in /usr/local/lib/python3.10/dist-packages (from uvicorn) (8.1.7)\nRequirement already satisfied: h11>=0.8 in /usr/local/lib/python3.10/dist-packages (from uvicorn) (0.14.0)\nRequirement already satisfied: charset-normalizer<4,>=2 in /usr/local/lib/python3.10/dist-packages (from requests) (3.4.0)\nRequirement already satisfied: idna<4,>=2.5 in /usr/local/lib/python3.10/dist-packages (from requests) (3.10)\nRequirement already satisfied: urllib3<3,>=1.21.1 in /usr/local/lib/python3.10/dist-packages (from requests) (2.2.3)\nRequirement already satisfied: certifi>=2017.4.17 in /usr/local/lib/python3.10/dist-packages (from requests) (2024.12.14)\nRequirement already satisfied: annotated-types>=0.6.0 in /usr/local/lib/python3.10/dist-packages (from pydantic!=1.8,!=1.8.1,!=2.0.0,!=2.0.1,!=2.1.0,<3.0.0,>=1.7.4->fastapi) (0.7.0)\nRequirement already satisfied: pydantic-core==2.27.1 in /usr/local/lib/python3.10/dist-packages (from pydantic!=1.8,!=1.8.1,!=2.0.0,!=2.0.1,!=2.1.0,<3.0.0,>=1.7.4->fastapi) (2.27.1)\nRequirement already satisfied: anyio<5,>=3.6.2 in /usr/local/lib/python3.10/dist-packages (from starlette<0.46.0,>=0.40.0->fastapi) (3.7.1)\nRequirement already satisfied: sniffio>=1.1 in /usr/local/lib/python3.10/dist-packages (from anyio<5,>=3.6.2->starlette<0.46.0,>=0.40.0->fastapi) (1.3.1)\nRequirement already satisfied: exceptiongroup in /usr/local/lib/python3.10/dist-packages (from anyio<5,>=3.6.2->starlette<0.46.0,>=0.40.0->fastapi) (1.2.2)\nDownloading fastapi-0.115.8-py3-none-any.whl (94 kB)\n\u001B[2K   \u001B[90m━━━━━━━━━━━━━━━━━━━━━━━━━━━━━━━━━━━━━━━━\u001B[0m \u001B[32m94.8/94.8 kB\u001B[0m \u001B[31m3.4 MB/s\u001B[0m eta \u001B[36m0:00:00\u001B[0m\n\u001B[?25hDownloading uvicorn-0.34.0-py3-none-any.whl (62 kB)\n\u001B[2K   \u001B[90m━━━━━━━━━━━━━━━━━━━━━━━━━━━━━━━━━━━━━━━━\u001B[0m \u001B[32m62.3/62.3 kB\u001B[0m \u001B[31m3.3 MB/s\u001B[0m eta \u001B[36m0:00:00\u001B[0m\n\u001B[?25hDownloading python_dotenv-1.0.1-py3-none-any.whl (19 kB)\nDownloading starlette-0.45.3-py3-none-any.whl (71 kB)\n\u001B[2K   \u001B[90m━━━━━━━━━━━━━━━━━━━━━━━━━━━━━━━━━━━━━━━━\u001B[0m \u001B[32m71.5/71.5 kB\u001B[0m \u001B[31m3.9 MB/s\u001B[0m eta \u001B[36m0:00:00\u001B[0m\n\u001B[?25hInstalling collected packages: uvicorn, python-dotenv, starlette, fastapi\nSuccessfully installed fastapi-0.115.8 python-dotenv-1.0.1 starlette-0.45.3 uvicorn-0.34.0\n",
     "output_type": "stream"
    }
   ],
   "execution_count": 1
  },
  {
   "cell_type": "code",
   "source": "!export GROQ_API_KEY='gsk_GqHIXXXXXXXXXXXXXXXXXXXXXXXXXXXXX'   #replace with your api key",
   "metadata": {
    "trusted": true,
    "execution": {
     "iopub.status.busy": "2025-02-03T16:17:16.947541Z",
     "iopub.execute_input": "2025-02-03T16:17:16.947910Z",
     "iopub.status.idle": "2025-02-03T16:17:17.063917Z",
     "shell.execute_reply.started": "2025-02-03T16:17:16.947884Z",
     "shell.execute_reply": "2025-02-03T16:17:17.062880Z"
    }
   },
   "outputs": [],
   "execution_count": 15
  },
  {
   "cell_type": "code",
   "source": "!pip install groq",
   "metadata": {
    "trusted": true,
    "execution": {
     "iopub.status.busy": "2025-02-03T16:18:15.452097Z",
     "iopub.execute_input": "2025-02-03T16:18:15.452397Z",
     "iopub.status.idle": "2025-02-03T16:18:19.797986Z",
     "shell.execute_reply.started": "2025-02-03T16:18:15.452375Z",
     "shell.execute_reply": "2025-02-03T16:18:19.797176Z"
    }
   },
   "outputs": [
    {
     "name": "stdout",
     "text": "Collecting groq\n  Downloading groq-0.16.0-py3-none-any.whl.metadata (14 kB)\nRequirement already satisfied: anyio<5,>=3.5.0 in /usr/local/lib/python3.10/dist-packages (from groq) (3.7.1)\nRequirement already satisfied: distro<2,>=1.7.0 in /usr/local/lib/python3.10/dist-packages (from groq) (1.9.0)\nRequirement already satisfied: httpx<1,>=0.23.0 in /usr/local/lib/python3.10/dist-packages (from groq) (0.28.1)\nRequirement already satisfied: pydantic<3,>=1.9.0 in /usr/local/lib/python3.10/dist-packages (from groq) (2.10.3)\nRequirement already satisfied: sniffio in /usr/local/lib/python3.10/dist-packages (from groq) (1.3.1)\nRequirement already satisfied: typing-extensions<5,>=4.10 in /usr/local/lib/python3.10/dist-packages (from groq) (4.12.2)\nRequirement already satisfied: idna>=2.8 in /usr/local/lib/python3.10/dist-packages (from anyio<5,>=3.5.0->groq) (3.10)\nRequirement already satisfied: exceptiongroup in /usr/local/lib/python3.10/dist-packages (from anyio<5,>=3.5.0->groq) (1.2.2)\nRequirement already satisfied: certifi in /usr/local/lib/python3.10/dist-packages (from httpx<1,>=0.23.0->groq) (2024.12.14)\nRequirement already satisfied: httpcore==1.* in /usr/local/lib/python3.10/dist-packages (from httpx<1,>=0.23.0->groq) (1.0.7)\nRequirement already satisfied: h11<0.15,>=0.13 in /usr/local/lib/python3.10/dist-packages (from httpcore==1.*->httpx<1,>=0.23.0->groq) (0.14.0)\nRequirement already satisfied: annotated-types>=0.6.0 in /usr/local/lib/python3.10/dist-packages (from pydantic<3,>=1.9.0->groq) (0.7.0)\nRequirement already satisfied: pydantic-core==2.27.1 in /usr/local/lib/python3.10/dist-packages (from pydantic<3,>=1.9.0->groq) (2.27.1)\nDownloading groq-0.16.0-py3-none-any.whl (109 kB)\n\u001B[2K   \u001B[90m━━━━━━━━━━━━━━━━━━━━━━━━━━━━━━━━━━━━━━━━\u001B[0m \u001B[32m109.7/109.7 kB\u001B[0m \u001B[31m4.1 MB/s\u001B[0m eta \u001B[36m0:00:00\u001B[0m\n\u001B[?25hInstalling collected packages: groq\nSuccessfully installed groq-0.16.0\n",
     "output_type": "stream"
    }
   ],
   "execution_count": 18
  },
  {
   "cell_type": "code",
   "source": [
    "import os\n",
    "from groq import Groq\n",
    "\n",
    "# Initialize Groq Client\n",
    "client = Groq(api_key=os.environ.get(\"GROQ_API_KEY\"))\n",
    "\n",
    "def translate_text(text, target_language=\"Persian\"):\n",
    "    chat_completion = client.chat.completions.create(\n",
    "        messages=[\n",
    "            {\n",
    "                \"role\": \"system\",\n",
    "                \"content\": \"You are a helpful translation assistant.\",\n",
    "            },\n",
    "            {\n",
    "                \"role\": \"user\",\n",
    "                \"content\": f\"Translate the following text into {target_language}: {text}\",\n",
    "            },\n",
    "        ],\n",
    "        model=\"llama-3.3-70b-versatile\",  # You can experiment with different models\n",
    "    )\n",
    "\n",
    "    return chat_completion.choices[0].message.content\n",
    "\n",
    "# Example: Translate English to Persian\n",
    "translated_text = translate_text(\"Hello, how are you?\", \"Persian\")\n",
    "translated_text01 = translate_text(\"I am addicted to you honey\", \"Persian\")\n",
    "print(translated_text)\n",
    "\n",
    "\n",
    "\n",
    "# This one is chllanging and the translation seems really cool\n",
    "print(translated_text01)\n"
   ],
   "metadata": {
    "trusted": true,
    "execution": {
     "iopub.status.busy": "2025-02-03T16:36:02.987711Z",
     "iopub.execute_input": "2025-02-03T16:36:02.988048Z",
     "iopub.status.idle": "2025-02-03T16:36:05.969085Z",
     "shell.execute_reply.started": "2025-02-03T16:36:02.988022Z",
     "shell.execute_reply": "2025-02-03T16:36:05.968398Z"
    }
   },
   "outputs": [
    {
     "name": "stdout",
     "text": "سلام، چطوری؟\nبه ترجمه فارسی این متن می‌پردازم:\nمن به تو عادت کرده‌ام، عسل ( یا به‌ معنای عام‌ تر: من به تو وابسته شده‌ام)\n\n aber اگر می‌خواهید ترجمه‌ای دقیق‌تر و شیرین‌تر باشد:\nعسل من، به تو معتادم ( این ترجمه، مفهوم و معنای عاطفی بیشتر متن اصلی را منتقل می‌کند)\n",
     "output_type": "stream"
    }
   ],
   "execution_count": 25
  }
 ]
}
